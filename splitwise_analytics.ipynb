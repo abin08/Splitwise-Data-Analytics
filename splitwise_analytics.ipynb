{
 "cells": [
  {
   "cell_type": "code",
   "execution_count": 2,
   "metadata": {},
   "outputs": [],
   "source": [
    "import pandas as pd\n",
    "import numpy as np"
   ]
  },
  {
   "cell_type": "code",
   "execution_count": 3,
   "metadata": {},
   "outputs": [],
   "source": [
    "splitwiseData = pd.read_csv('splitwise_group.csv')"
   ]
  },
  {
   "cell_type": "code",
   "execution_count": 4,
   "metadata": {},
   "outputs": [
    {
     "data": {
      "text/html": [
       "<div>\n",
       "<style scoped>\n",
       "    .dataframe tbody tr th:only-of-type {\n",
       "        vertical-align: middle;\n",
       "    }\n",
       "\n",
       "    .dataframe tbody tr th {\n",
       "        vertical-align: top;\n",
       "    }\n",
       "\n",
       "    .dataframe thead th {\n",
       "        text-align: right;\n",
       "    }\n",
       "</style>\n",
       "<table border=\"1\" class=\"dataframe\">\n",
       "  <thead>\n",
       "    <tr style=\"text-align: right;\">\n",
       "      <th></th>\n",
       "      <th>Date</th>\n",
       "      <th>Description</th>\n",
       "      <th>Category</th>\n",
       "      <th>Cost</th>\n",
       "      <th>Currency</th>\n",
       "      <th>Saviour Tom</th>\n",
       "      <th>Noble George</th>\n",
       "      <th>Jestin</th>\n",
       "      <th>Abin K Antony</th>\n",
       "    </tr>\n",
       "  </thead>\n",
       "  <tbody>\n",
       "    <tr>\n",
       "      <th>0</th>\n",
       "      <td>NaN</td>\n",
       "      <td>NaN</td>\n",
       "      <td>NaN</td>\n",
       "      <td>NaN</td>\n",
       "      <td>NaN</td>\n",
       "      <td>NaN</td>\n",
       "      <td>NaN</td>\n",
       "      <td>NaN</td>\n",
       "      <td>NaN</td>\n",
       "    </tr>\n",
       "    <tr>\n",
       "      <th>1</th>\n",
       "      <td>2018-04-17</td>\n",
       "      <td>Washing machine</td>\n",
       "      <td>Home - Other</td>\n",
       "      <td>4340.0</td>\n",
       "      <td>INR</td>\n",
       "      <td>0.0</td>\n",
       "      <td>-1446.67</td>\n",
       "      <td>723.34</td>\n",
       "      <td>723.33</td>\n",
       "    </tr>\n",
       "    <tr>\n",
       "      <th>2</th>\n",
       "      <td>2018-04-19</td>\n",
       "      <td>Fried Chicken</td>\n",
       "      <td>Groceries</td>\n",
       "      <td>269.0</td>\n",
       "      <td>INR</td>\n",
       "      <td>0.0</td>\n",
       "      <td>134.50</td>\n",
       "      <td>-134.50</td>\n",
       "      <td>0.00</td>\n",
       "    </tr>\n",
       "    <tr>\n",
       "      <th>3</th>\n",
       "      <td>2018-04-21</td>\n",
       "      <td>Dinner</td>\n",
       "      <td>Dining out</td>\n",
       "      <td>125.0</td>\n",
       "      <td>INR</td>\n",
       "      <td>0.0</td>\n",
       "      <td>-41.67</td>\n",
       "      <td>-41.67</td>\n",
       "      <td>83.34</td>\n",
       "    </tr>\n",
       "    <tr>\n",
       "      <th>4</th>\n",
       "      <td>2018-04-22</td>\n",
       "      <td>Moriz</td>\n",
       "      <td>General</td>\n",
       "      <td>891.0</td>\n",
       "      <td>INR</td>\n",
       "      <td>0.0</td>\n",
       "      <td>523.00</td>\n",
       "      <td>-368.00</td>\n",
       "      <td>-155.00</td>\n",
       "    </tr>\n",
       "  </tbody>\n",
       "</table>\n",
       "</div>"
      ],
      "text/plain": [
       "         Date      Description      Category    Cost Currency  Saviour Tom  \\\n",
       "0         NaN              NaN           NaN     NaN      NaN          NaN   \n",
       "1  2018-04-17  Washing machine  Home - Other  4340.0      INR          0.0   \n",
       "2  2018-04-19    Fried Chicken     Groceries   269.0      INR          0.0   \n",
       "3  2018-04-21           Dinner    Dining out   125.0      INR          0.0   \n",
       "4  2018-04-22            Moriz       General   891.0      INR          0.0   \n",
       "\n",
       "   Noble George  Jestin  Abin K Antony  \n",
       "0           NaN     NaN            NaN  \n",
       "1      -1446.67  723.34         723.33  \n",
       "2        134.50 -134.50           0.00  \n",
       "3        -41.67  -41.67          83.34  \n",
       "4        523.00 -368.00        -155.00  "
      ]
     },
     "execution_count": 4,
     "metadata": {},
     "output_type": "execute_result"
    }
   ],
   "source": [
    "splitwiseData.head()"
   ]
  },
  {
   "cell_type": "code",
   "execution_count": 5,
   "metadata": {},
   "outputs": [],
   "source": [
    "splitwiseData = splitwiseData.dropna()"
   ]
  },
  {
   "cell_type": "code",
   "execution_count": 6,
   "metadata": {},
   "outputs": [
    {
     "data": {
      "text/plain": [
       "Date             0\n",
       "Description      0\n",
       "Category         0\n",
       "Cost             0\n",
       "Currency         0\n",
       "Saviour Tom      0\n",
       "Noble George     0\n",
       "Jestin           0\n",
       "Abin K Antony    0\n",
       "dtype: int64"
      ]
     },
     "execution_count": 6,
     "metadata": {},
     "output_type": "execute_result"
    }
   ],
   "source": [
    "splitwiseData.isnull().sum()"
   ]
  },
  {
   "cell_type": "code",
   "execution_count": 7,
   "metadata": {},
   "outputs": [
    {
     "data": {
      "text/plain": [
       "Date              object\n",
       "Description       object\n",
       "Category          object\n",
       "Cost             float64\n",
       "Currency          object\n",
       "Saviour Tom      float64\n",
       "Noble George     float64\n",
       "Jestin           float64\n",
       "Abin K Antony    float64\n",
       "dtype: object"
      ]
     },
     "execution_count": 7,
     "metadata": {},
     "output_type": "execute_result"
    }
   ],
   "source": [
    "splitwiseData.dtypes"
   ]
  },
  {
   "cell_type": "code",
   "execution_count": 8,
   "metadata": {},
   "outputs": [],
   "source": [
    "splitwiseData['Date'] = pd.to_datetime(splitwiseData['Date'])"
   ]
  },
  {
   "cell_type": "code",
   "execution_count": 9,
   "metadata": {},
   "outputs": [
    {
     "data": {
      "text/plain": [
       "Date             datetime64[ns]\n",
       "Description              object\n",
       "Category                 object\n",
       "Cost                    float64\n",
       "Currency                 object\n",
       "Saviour Tom             float64\n",
       "Noble George            float64\n",
       "Jestin                  float64\n",
       "Abin K Antony           float64\n",
       "dtype: object"
      ]
     },
     "execution_count": 9,
     "metadata": {},
     "output_type": "execute_result"
    }
   ],
   "source": [
    "splitwiseData.dtypes"
   ]
  },
  {
   "cell_type": "code",
   "execution_count": 10,
   "metadata": {},
   "outputs": [],
   "source": [
    "splitwiseData = splitwiseData.drop(['Description', 'Currency'], axis=1)"
   ]
  },
  {
   "cell_type": "code",
   "execution_count": 11,
   "metadata": {},
   "outputs": [
    {
     "data": {
      "text/html": [
       "<div>\n",
       "<style scoped>\n",
       "    .dataframe tbody tr th:only-of-type {\n",
       "        vertical-align: middle;\n",
       "    }\n",
       "\n",
       "    .dataframe tbody tr th {\n",
       "        vertical-align: top;\n",
       "    }\n",
       "\n",
       "    .dataframe thead th {\n",
       "        text-align: right;\n",
       "    }\n",
       "</style>\n",
       "<table border=\"1\" class=\"dataframe\">\n",
       "  <thead>\n",
       "    <tr style=\"text-align: right;\">\n",
       "      <th></th>\n",
       "      <th>Date</th>\n",
       "      <th>Category</th>\n",
       "      <th>Cost</th>\n",
       "      <th>Saviour Tom</th>\n",
       "      <th>Noble George</th>\n",
       "      <th>Jestin</th>\n",
       "      <th>Abin K Antony</th>\n",
       "    </tr>\n",
       "  </thead>\n",
       "  <tbody>\n",
       "    <tr>\n",
       "      <th>1</th>\n",
       "      <td>2018-04-17</td>\n",
       "      <td>Home - Other</td>\n",
       "      <td>4340.0</td>\n",
       "      <td>0.0</td>\n",
       "      <td>-1446.67</td>\n",
       "      <td>723.34</td>\n",
       "      <td>723.33</td>\n",
       "    </tr>\n",
       "    <tr>\n",
       "      <th>2</th>\n",
       "      <td>2018-04-19</td>\n",
       "      <td>Groceries</td>\n",
       "      <td>269.0</td>\n",
       "      <td>0.0</td>\n",
       "      <td>134.50</td>\n",
       "      <td>-134.50</td>\n",
       "      <td>0.00</td>\n",
       "    </tr>\n",
       "    <tr>\n",
       "      <th>3</th>\n",
       "      <td>2018-04-21</td>\n",
       "      <td>Dining out</td>\n",
       "      <td>125.0</td>\n",
       "      <td>0.0</td>\n",
       "      <td>-41.67</td>\n",
       "      <td>-41.67</td>\n",
       "      <td>83.34</td>\n",
       "    </tr>\n",
       "    <tr>\n",
       "      <th>4</th>\n",
       "      <td>2018-04-22</td>\n",
       "      <td>General</td>\n",
       "      <td>891.0</td>\n",
       "      <td>0.0</td>\n",
       "      <td>523.00</td>\n",
       "      <td>-368.00</td>\n",
       "      <td>-155.00</td>\n",
       "    </tr>\n",
       "    <tr>\n",
       "      <th>5</th>\n",
       "      <td>2018-04-25</td>\n",
       "      <td>Dining out</td>\n",
       "      <td>165.0</td>\n",
       "      <td>0.0</td>\n",
       "      <td>82.50</td>\n",
       "      <td>0.00</td>\n",
       "      <td>-82.50</td>\n",
       "    </tr>\n",
       "  </tbody>\n",
       "</table>\n",
       "</div>"
      ],
      "text/plain": [
       "        Date      Category    Cost  Saviour Tom  Noble George  Jestin  \\\n",
       "1 2018-04-17  Home - Other  4340.0          0.0      -1446.67  723.34   \n",
       "2 2018-04-19     Groceries   269.0          0.0        134.50 -134.50   \n",
       "3 2018-04-21    Dining out   125.0          0.0        -41.67  -41.67   \n",
       "4 2018-04-22       General   891.0          0.0        523.00 -368.00   \n",
       "5 2018-04-25    Dining out   165.0          0.0         82.50    0.00   \n",
       "\n",
       "   Abin K Antony  \n",
       "1         723.33  \n",
       "2           0.00  \n",
       "3          83.34  \n",
       "4        -155.00  \n",
       "5         -82.50  "
      ]
     },
     "execution_count": 11,
     "metadata": {},
     "output_type": "execute_result"
    }
   ],
   "source": [
    "splitwiseData.head()"
   ]
  },
  {
   "cell_type": "code",
   "execution_count": null,
   "metadata": {},
   "outputs": [],
   "source": []
  },
  {
   "cell_type": "code",
   "execution_count": null,
   "metadata": {},
   "outputs": [],
   "source": []
  }
 ],
 "metadata": {
  "kernelspec": {
   "display_name": "Python 3",
   "language": "python",
   "name": "python3"
  },
  "language_info": {
   "codemirror_mode": {
    "name": "ipython",
    "version": 3
   },
   "file_extension": ".py",
   "mimetype": "text/x-python",
   "name": "python",
   "nbconvert_exporter": "python",
   "pygments_lexer": "ipython3",
   "version": "3.7.0"
  }
 },
 "nbformat": 4,
 "nbformat_minor": 2
}
